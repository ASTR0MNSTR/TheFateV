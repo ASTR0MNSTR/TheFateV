{
 "cells": [
  {
   "cell_type": "code",
   "execution_count": 1,
   "metadata": {},
   "outputs": [],
   "source": [
    "import pandas as pd\n",
    "import numpy as np\n",
    "from functools import reduce"
   ]
  },
  {
   "cell_type": "code",
   "execution_count": 2,
   "metadata": {},
   "outputs": [],
   "source": [
    "# PATHES TO DATABASES\n",
    "general_path = r'E:\\backup\\backup_BPT\\GAMA_ETG_OLA.csv'\n",
    "path_to_wise = r'E:\\backup\\backup_BPT\\Sep2023\\WISE\\WISE_AGN.csv'\n",
    "path_to_cigale_005 = r'E:\\backup\\backup_BPT\\Sep2023\\CIGALE\\CIGALE_AGN_005.csv'\n",
    "path_to_BLR_HA = r'E:\\backup\\backup_BPT\\Sep2023\\BROAD\\broads_ha.csv'\n",
    "path_to_BLR_HB = r'E:\\backup\\backup_BPT\\Sep2023\\BROAD\\broads_hb.csv'\n",
    "\n",
    "path_to_LOFAR = r'E:\\backup\\backup_BPT\\Sep2023\\MERGEALL\\RadioExcess.txt'\n",
    "path_to_eFEDS = r'E:\\backup\\backup_BPT\\Sep2023\\MERGEALL\\XrayDetection.txt'"
   ]
  },
  {
   "cell_type": "code",
   "execution_count": 3,
   "metadata": {},
   "outputs": [],
   "source": [
    "usecols = ['SPECID', 'CATAID_1', 'BPT', 'WHAN']\n",
    "BPT_WHAN = pd.read_csv(general_path, usecols=usecols)\n",
    "BPT_WHAN.set_index('CATAID_1', inplace=True)\n",
    "\n",
    "usecols = ['CATAID_1', 'WISE_AGN']\n",
    "WISE = pd.read_csv(path_to_wise, usecols=usecols)\n",
    "WISE.set_index('CATAID_1', inplace=True)\n",
    "\n",
    "usecols = ['CATAID_1', 'CIGALE_AGN']\n",
    "CIGALE = pd.read_csv(path_to_cigale_005, usecols=usecols)\n",
    "CIGALE.set_index('CATAID_1', inplace=True)\n",
    "\n",
    "usecols = ['CATAID_1', 'BLR_HA']\n",
    "BLR_HA = pd.read_csv(path_to_BLR_HA, usecols=usecols)\n",
    "BLR_HA.set_index('CATAID_1', inplace=True)\n",
    "\n",
    "usecols = ['CATAID_1', 'BLR_HB']\n",
    "BLR_HB = pd.read_csv(path_to_BLR_HB, usecols=usecols)\n",
    "BLR_HB.set_index('CATAID_1', inplace=True)\n",
    "\n",
    "LOFAR = pd.read_csv(path_to_LOFAR, sep=r\"\\s+\", header=None, engine='python', usecols=[1], names=['CATAID_1'])\n",
    "LOFAR['LOFAR'] = True\n",
    "eFEDS = pd.read_csv(path_to_eFEDS, sep=r\"\\s+\", header=None, engine='python', usecols=[1], names=['CATAID_1'])\n",
    "eFEDS['eFEDS'] = True\n"
   ]
  },
  {
   "cell_type": "code",
   "execution_count": 4,
   "metadata": {},
   "outputs": [
    {
     "name": "stderr",
     "output_type": "stream",
     "text": [
      "C:\\Users\\ALEZHA_ACTIVE\\AppData\\Local\\Temp\\ipykernel_17880\\412413880.py:6: SettingWithCopyWarning: \n",
      "A value is trying to be set on a copy of a slice from a DataFrame\n",
      "\n",
      "See the caveats in the documentation: https://pandas.pydata.org/pandas-docs/stable/user_guide/indexing.html#returning-a-view-versus-a-copy\n",
      "  ALL_AGN['Score'][i] += 1\n",
      "C:\\Users\\ALEZHA_ACTIVE\\AppData\\Local\\Temp\\ipykernel_17880\\412413880.py:8: SettingWithCopyWarning: \n",
      "A value is trying to be set on a copy of a slice from a DataFrame\n",
      "\n",
      "See the caveats in the documentation: https://pandas.pydata.org/pandas-docs/stable/user_guide/indexing.html#returning-a-view-versus-a-copy\n",
      "  ALL_AGN['Score'][i] += 1\n"
     ]
    }
   ],
   "source": [
    "# BPT_WHAN.join([WISE, CIGALE, BLR_HA, BLR_HB], on='CATAID_1', how='outer')\n",
    "ALL_AGN = reduce(lambda x,y: pd.merge(x,y, on='CATAID_1', how='outer'), [BPT_WHAN, WISE, CIGALE, BLR_HA, BLR_HB, LOFAR, eFEDS])\n",
    "ALL_AGN['Score'] = ALL_AGN.count('columns') - 4\n",
    "for i in range(len(ALL_AGN['Score'])):\n",
    "    if ALL_AGN['WHAN'][i] in ['sAGN', 'wAGN']:\n",
    "        ALL_AGN['Score'][i] += 1\n",
    "    if ALL_AGN['BPT'][i] in ['AGNXY']:\n",
    "        ALL_AGN['Score'][i] += 1\n",
    "ALL_AGN.fillna(False, inplace=True)\n",
    "ALL_AGN = ALL_AGN.sort_values(by='Score', ascending=False)\n",
    "ALL_AGN.to_csv('ALL_AGN.csv', index=False)"
   ]
  }
 ],
 "metadata": {
  "kernelspec": {
   "display_name": "Python 3",
   "language": "python",
   "name": "python3"
  },
  "language_info": {
   "codemirror_mode": {
    "name": "ipython",
    "version": 3
   },
   "file_extension": ".py",
   "mimetype": "text/x-python",
   "name": "python",
   "nbconvert_exporter": "python",
   "pygments_lexer": "ipython3",
   "version": "3.10.10"
  }
 },
 "nbformat": 4,
 "nbformat_minor": 2
}
