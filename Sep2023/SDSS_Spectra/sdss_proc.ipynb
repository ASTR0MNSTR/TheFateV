{
 "cells": [
  {
   "cell_type": "markdown",
   "metadata": {},
   "source": [
    "Example of SDSS spectra extraction"
   ]
  },
  {
   "cell_type": "code",
   "execution_count": null,
   "metadata": {},
   "outputs": [],
   "source": [
    "# import numpy as np\n",
    "# import matplotlib.pyplot as plt\n",
    "# from astropy.io import fits\n",
    "# from astropy import units as u\n",
    "# import pandas as pd\n",
    "\n",
    "# path = r'E:\\databases\\SDSS\\FITS\\spec-0282-51658-0080.fits'\n",
    "# hdul = fits.open(path)\n",
    "# hdul.info()"
   ]
  },
  {
   "cell_type": "code",
   "execution_count": null,
   "metadata": {},
   "outputs": [],
   "source": [
    "# cols1 = hdul[1].columns\n",
    "# print(cols1)"
   ]
  },
  {
   "cell_type": "code",
   "execution_count": null,
   "metadata": {},
   "outputs": [],
   "source": [
    "# data1 = hdul[1].data\n",
    " \n",
    "# wavelength = 10 ** data1.field('loglam')\n",
    "# flux = data1.field('flux')\n",
    "# model = data1.field('model')\n",
    " \n",
    "# print('Wavelength :', wavelength)\n",
    "# print('Flux (raw) :', flux)\n",
    "# print('Model (fit):', model)"
   ]
  },
  {
   "cell_type": "code",
   "execution_count": null,
   "metadata": {},
   "outputs": [],
   "source": [
    "# wavelength = wavelength * u.Unit('AA')\n",
    "# flux = flux * 10**-17 * u.Unit('erg cm-2 s-1 AA-1')\n",
    "# model = model * 10**-17 * u.Unit('erg cm-2 s-1 AA-1')"
   ]
  },
  {
   "cell_type": "code",
   "execution_count": null,
   "metadata": {},
   "outputs": [],
   "source": [
    "# fig, ax = plt.subplots(2, 1, figsize=(12,10))\n",
    " \n",
    "# ax[0].plot(wavelength, flux, linewidth=1)\n",
    "# ax[1].plot(wavelength, model, linewidth=1)\n",
    " \n",
    "# ax[0].set_xlabel('Wavelength')\n",
    "# ax[1].set_xlabel('Wavelength')\n",
    "# ax[0].set_ylabel('Flux (raw)')\n",
    "# ax[1].set_ylabel('Flux (fit)')\n",
    " \n",
    "# plt.show()"
   ]
  },
  {
   "cell_type": "code",
   "execution_count": null,
   "metadata": {},
   "outputs": [],
   "source": [
    "# cols3 = hdul[3].columns\n",
    "# data3 = hdul[3].data\n",
    " \n",
    "# print(cols3)"
   ]
  },
  {
   "cell_type": "code",
   "execution_count": null,
   "metadata": {},
   "outputs": [],
   "source": [
    "# line_names = data3.field('LINENAME')\n",
    "# line_waves = data3.field('LINEWAVE')\n",
    "# line_z = data3.field('LINEZ')\n",
    "# line_area = data3.field('LINEAREA')\n",
    " \n",
    "# df = pd.DataFrame(\n",
    "#     {'name': [i for i in line_names],\n",
    "#      'lam_rest': [i for i in line_waves],\n",
    "#      'z': [i for i in line_z],\n",
    "#      'area': [i for i in line_area]\n",
    "#      }\n",
    "#     )\n",
    " \n",
    "# df = df[abs(df['area']) != 0]\n",
    "# df.reset_index(inplace=True)\n",
    "# print(df)"
   ]
  },
  {
   "cell_type": "code",
   "execution_count": null,
   "metadata": {},
   "outputs": [],
   "source": [
    "# df['lam_obs'] = df['lam_rest'] * (1 + df['z'])"
   ]
  },
  {
   "cell_type": "code",
   "execution_count": null,
   "metadata": {},
   "outputs": [],
   "source": [
    "# fig, ax = plt.subplots(figsize=(12,8))\n",
    " \n",
    "# label_y = np.random.uniform(\n",
    "#     low=model.min().value*1.1,\n",
    "#     high=model.max().value*0.9,\n",
    "#     size=len(df)\n",
    "#     )\n",
    " \n",
    "# ax.plot(wavelength, model, linewidth=1)\n",
    " \n",
    "# for i in range(len(df)):\n",
    "#     ax.axvline(x=df['lam_obs'].iloc[i],\n",
    "#                color='r',\n",
    "#                alpha=0.3,\n",
    "#                label=df['name'].iloc[i],\n",
    "#                ls='--',\n",
    "#                lw=0.7)\n",
    "     \n",
    "#     ax.text(x=df['lam_obs'].iloc[i] ,\n",
    "#             y=label_y[i],\n",
    "#             s=df['name'].iloc[i],\n",
    "#             fontsize='small',\n",
    "#             rotation=90)\n",
    " \n",
    "# # plt.xlim(3700, 9300)\n",
    "# plt.show()"
   ]
  },
  {
   "cell_type": "markdown",
   "metadata": {},
   "source": [
    "H BETA PROCESSING"
   ]
  },
  {
   "cell_type": "code",
   "execution_count": null,
   "metadata": {},
   "outputs": [],
   "source": [
    "import pandas as pd\n",
    "import os\n",
    "import sdss\n",
    "from __sdss__ import *\n",
    "import requests"
   ]
  },
  {
   "cell_type": "code",
   "execution_count": null,
   "metadata": {},
   "outputs": [],
   "source": [
    "path_to_broads = r'E:\\backup\\backup_BPT\\Sep2023\\BROAD\\broads_hb.csv'\n",
    "frame = pd.read_csv(path_to_broads, usecols=['SPECID'])\n",
    "\n",
    "bpt_whan_path = r'E:/backup/backup_BPT/GAMA_ETG_OLA.csv'\n",
    "BPT_WHAN = pd.read_csv(bpt_whan_path, usecols=['SPECID', 'CATAID_1', 'Z', 'BPT', 'WHAN'])\n",
    "BPT_WHAN = BPT_WHAN[BPT_WHAN.SPECID.isin(frame['SPECID']) == False]\n",
    "\n",
    "BPT_WHAN = BPT_WHAN.query('WHAN == \"SFG\" | BPT == \"UNCXY\"')\n",
    "BPT_WHAN.reset_index(inplace=True, drop=True)\n",
    "frame = BPT_WHAN\n",
    "print(frame.shape)"
   ]
  },
  {
   "cell_type": "code",
   "execution_count": null,
   "metadata": {},
   "outputs": [],
   "source": [
    "final_frame_SDSS = frame.loc[frame.SPECID.str.contains('G') == False]\n",
    "path_to_dynamic = r'E:\\databases\\SDSS\\DYNAMIC'\n",
    "path_to_images = r'E:\\databases\\SDSS\\REST_HB'\n",
    "os.chdir(path_to_dynamic)\n",
    "for i in range(len(final_frame_SDSS['SPECID'])):\n",
    "    sp = sdss.SpecObj(final_frame_SDSS['SPECID'][i])\n",
    "    try:\n",
    "        sp.download_spec()\n",
    "        fits_file = ''\n",
    "        for file in os.listdir(path_to_dynamic):\n",
    "            fits_file = file\n",
    "            plotter_extractor_sdss(path_to_dynamic + '/' + file,  path_to_images + '/' + final_frame_SDSS['SPECID'][i] +'.png', 4862.682994)\n",
    "        os.remove(path_to_dynamic + '/' + fits_file)\n",
    "    except:\n",
    "        pass"
   ]
  },
  {
   "cell_type": "code",
   "execution_count": null,
   "metadata": {},
   "outputs": [],
   "source": [
    "final_frame_GAMA = frame.loc[frame.SPECID.str.contains('G') == True]\n",
    "path_to_dynamic = r'E:\\databases\\SDSS\\DYNAMIC'\n",
    "os.chdir(path_to_dynamic)\n",
    "path_to_images = r'E:\\databases\\SDSS\\REST_HB'\n",
    "for ids in final_frame_GAMA['SPECID']:\n",
    "    url = 'https://www.gama-survey.org/dr3/data/spectra/gama/reduced_27/1d/'+ids+'.fit'\n",
    "    r = requests.get(url, allow_redirects=True)\n",
    "    filename = url.split('/')[-1]\n",
    "    open(filename, 'wb').write(r.content)\n",
    "    fits_file = ''\n",
    "    for file in os.listdir(path_to_dynamic):\n",
    "        fits_file = file\n",
    "        print(file)\n",
    "        plotter_extractor_gama(path_to_dynamic + '/' + file,  path_to_images + '/' + ids +'.png', 4862.682994)\n",
    "    os.remove(path_to_dynamic + '/' + fits_file)    "
   ]
  },
  {
   "cell_type": "code",
   "execution_count": null,
   "metadata": {},
   "outputs": [],
   "source": [
    "final_frame_GAMA = frame.loc[frame.SPECID.str.contains('G') == True]\n",
    "os.chdir(r'E:\\databases\\SDSS\\GAMA_SPECTRA_PNG_HB')\n",
    "for ids in final_frame_GAMA['SPECID']:\n",
    "    url_png = 'https://www.gama-survey.org/dr3/data/spectra/gama/reduced_27/1d/png/'+ids+'.png'\n",
    "    r = requests.get(url_png, allow_redirects=True)\n",
    "    filename = url_png.split('/')[-1]\n",
    "    open(filename, 'wb').write(r.content)"
   ]
  },
  {
   "cell_type": "code",
   "execution_count": null,
   "metadata": {},
   "outputs": [],
   "source": [
    "path_to_failed = r'E:\\databases\\SDSS\\FAILED_SDSS_HB'\n",
    "FAILED_FILES = os.listdir(path_to_failed)\n",
    "names = [item[:-4] for item in FAILED_FILES]\n",
    "NewSeries = pd.Series(names)\n",
    "\n",
    "DataDict = {\n",
    "    'SPECID' : NewSeries\n",
    "}\n",
    "\n",
    "df = pd.DataFrame(DataDict)\n",
    "df.to_csv(r'E:\\backup\\backup_BPT\\Sep2023\\SDSS_Spectra\\exceptions_hb.csv', index=False)"
   ]
  },
  {
   "cell_type": "markdown",
   "metadata": {},
   "source": [
    "H ALPHA PROCESSING"
   ]
  },
  {
   "cell_type": "code",
   "execution_count": null,
   "metadata": {},
   "outputs": [],
   "source": [
    "import pandas as pd\n",
    "import os\n",
    "import sdss\n",
    "from __sdss__ import *\n",
    "import requests"
   ]
  },
  {
   "cell_type": "code",
   "execution_count": null,
   "metadata": {},
   "outputs": [],
   "source": [
    "path_to_broads = r'E:\\backup\\backup_BPT\\Sep2023\\BROAD\\broads_ha.csv'\n",
    "frame = pd.read_csv(path_to_broads, usecols=['SPECID'])\n",
    "\n",
    "bpt_whan_path = r'E:/backup/backup_BPT/GAMA_ETG_OLA.csv'\n",
    "BPT_WHAN = pd.read_csv(bpt_whan_path, usecols=['SPECID', 'CATAID_1', 'Z', 'BPT', 'WHAN'])\n",
    "BPT_WHAN = BPT_WHAN[BPT_WHAN.SPECID.isin(frame['SPECID']) == False]\n",
    "\n",
    "BPT_WHAN = BPT_WHAN.query('WHAN == \"SFG\" | BPT == \"UNCXY\"')\n",
    "BPT_WHAN.reset_index(inplace=True, drop=True)\n",
    "frame = BPT_WHAN\n",
    "\n",
    "frame = BPT_WHAN"
   ]
  },
  {
   "cell_type": "code",
   "execution_count": null,
   "metadata": {},
   "outputs": [],
   "source": [
    "final_frame_SDSS = frame.loc[frame.SPECID.str.contains('G') == False]\n",
    "path_to_dynamic = r'E:\\databases\\SDSS\\DYNAMIC'\n",
    "path_to_images = r'E:\\databases\\SDSS\\REST_HA'\n",
    "os.chdir(path_to_dynamic)\n",
    "for i in range(len(final_frame_SDSS['SPECID'])):\n",
    "    sp = sdss.SpecObj(final_frame_SDSS['SPECID'][i])\n",
    "    try:\n",
    "        sp.download_spec()\n",
    "        fits_file = ''\n",
    "        for file in os.listdir(path_to_dynamic):\n",
    "            fits_file = file\n",
    "            plotter_extractor_sdss(path_to_dynamic + '/' + file,  path_to_images + '/' + final_frame_SDSS['SPECID'][i] +'.png', 6564.613894)\n",
    "        os.remove(path_to_dynamic + '/' + fits_file)\n",
    "    except:\n",
    "        pass"
   ]
  },
  {
   "cell_type": "code",
   "execution_count": null,
   "metadata": {},
   "outputs": [],
   "source": [
    "final_frame_GAMA = frame.loc[frame.SPECID.str.contains('G') == True]\n",
    "path_to_dynamic = r'E:\\databases\\SDSS\\DYNAMIC'\n",
    "os.chdir(path_to_dynamic)\n",
    "path_to_images = r'E:\\databases\\SDSS\\REST_HA'\n",
    "for ids in final_frame_GAMA['SPECID']:\n",
    "    url = 'https://www.gama-survey.org/dr3/data/spectra/gama/reduced_27/1d/'+ids+'.fit'\n",
    "    r = requests.get(url, allow_redirects=True)\n",
    "    filename = url.split('/')[-1]\n",
    "    open(filename, 'wb').write(r.content)\n",
    "    fits_file = ''\n",
    "    for file in os.listdir(path_to_dynamic):\n",
    "        fits_file = file\n",
    "        print(file)\n",
    "        plotter_extractor_gama(path_to_dynamic + '/' + file,  path_to_images + '/' + ids +'.png', 6564.613894)\n",
    "    os.remove(path_to_dynamic + '/' + fits_file)"
   ]
  },
  {
   "cell_type": "code",
   "execution_count": null,
   "metadata": {},
   "outputs": [],
   "source": [
    "final_frame_GAMA = frame.loc[frame.SPECID.str.contains('G') == True]\n",
    "os.chdir(r'E:\\databases\\SDSS\\GAMA_SPECTRA_PNG_HA')\n",
    "for ids in final_frame_GAMA['SPECID']:\n",
    "    url_png = 'https://www.gama-survey.org/dr3/data/spectra/gama/reduced_27/1d/png/'+ids+'.png'\n",
    "    r = requests.get(url_png, allow_redirects=True)\n",
    "    filename = url_png.split('/')[-1]\n",
    "    open(filename, 'wb').write(r.content)"
   ]
  },
  {
   "cell_type": "code",
   "execution_count": null,
   "metadata": {},
   "outputs": [],
   "source": [
    "path_to_failed = r'E:\\databases\\SDSS\\FAILED_SDSS_HA'\n",
    "FAILED_FILES = os.listdir(path_to_failed)\n",
    "names = [item[:-4] for item in FAILED_FILES]\n",
    "NewSeries = pd.Series(names)\n",
    "\n",
    "DataDict = {\n",
    "    'SPECID' : NewSeries\n",
    "}\n",
    "\n",
    "df = pd.DataFrame(DataDict)\n",
    "df.to_csv(r'E:\\backup\\backup_BPT\\Sep2023\\SDSS_Spectra\\exceptions_ha.csv', index=False)"
   ]
  },
  {
   "cell_type": "markdown",
   "metadata": {},
   "source": [
    "CHECKING WAVY GALAXIES"
   ]
  },
  {
   "cell_type": "code",
   "execution_count": null,
   "metadata": {},
   "outputs": [],
   "source": [
    "import pandas as pd\n",
    "import os"
   ]
  },
  {
   "cell_type": "code",
   "execution_count": null,
   "metadata": {},
   "outputs": [],
   "source": [
    "path_to_wavies = r\"E:\\databases\\SDSS\\WAVY\"\n",
    "FAILED_FILES = os.listdir(path_to_wavies)\n",
    "names = [item[:-4] for item in FAILED_FILES]\n",
    "NewSeries = pd.Series(names)\n",
    "\n",
    "DataDict = {\n",
    "    'SPECID' : NewSeries\n",
    "}\n",
    "df_wavies = pd.DataFrame(DataDict)\n",
    "\n",
    "bpt_whan_path = r'E:/backup/backup_BPT/GAMA_ETG_OLA.csv'\n",
    "BPT_WHAN = pd.read_csv(bpt_whan_path, usecols=['SPECID', 'CATAID_1', 'Z', 'BPT', 'WHAN'])\n",
    "\n",
    "NewD = pd.merge(df_wavies, BPT_WHAN, how='inner', on='SPECID')\n",
    "# NewD = BPT_WHAN\n",
    "\n",
    "specall_path = r\"E:\\databases\\GAMAs\\SpecAll.txt\"\n",
    "SpecAllDict = {\n",
    "    0 : 'SPECID',\n",
    "    3 : 'RA',\n",
    "    4 : 'DEC',\n",
    "    7 : 'Z',\n",
    "    11 : 'URL',\n",
    "    12 : 'URL_IMG',\n",
    "    13 : 'CATAID_1',\n",
    "    16 : 'DIST',\n",
    "    17 : 'IS_SBEST',\n",
    "    18 : 'IS_BEST'\n",
    "}\n",
    "\n",
    "SpecAll = pd.read_csv(specall_path, sep=r\"\\s+\", header=None, index_col=0, engine='python', usecols=SpecAllDict.keys(), names=SpecAllDict.values())\n",
    "# print(SpecAll)\n",
    "\n",
    "NewDD = pd.merge(NewD, SpecAll, how='inner', on='CATAID_1')\n",
    "NewDD.to_csv(r'E:\\backup\\backup_BPT\\Sep2023\\SDSS_Spectra\\waves.csv', index=False)"
   ]
  }
 ],
 "metadata": {
  "kernelspec": {
   "display_name": "base",
   "language": "python",
   "name": "python3"
  },
  "language_info": {
   "codemirror_mode": {
    "name": "ipython",
    "version": 3
   },
   "file_extension": ".py",
   "mimetype": "text/x-python",
   "name": "python",
   "nbconvert_exporter": "python",
   "pygments_lexer": "ipython3",
   "version": "3.11.7"
  }
 },
 "nbformat": 4,
 "nbformat_minor": 2
}
