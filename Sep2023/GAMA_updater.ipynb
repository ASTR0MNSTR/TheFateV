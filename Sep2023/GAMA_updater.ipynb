{
 "cells": [
  {
   "cell_type": "code",
   "execution_count": 15,
   "metadata": {},
   "outputs": [],
   "source": [
    "##GAMA Table updater"
   ]
  },
  {
   "cell_type": "code",
   "execution_count": 16,
   "metadata": {},
   "outputs": [],
   "source": [
    "import csv\n",
    "import matplotlib.pyplot as plt\n",
    "import math\n",
    "import numpy as np\n",
    "import matplotlib as mpl\n",
    "import pandas as pd\n",
    "from processor import *"
   ]
  },
  {
   "cell_type": "code",
   "execution_count": 17,
   "metadata": {},
   "outputs": [
    {
     "name": "stdout",
     "output_type": "stream",
     "text": [
      "1\n",
      "120115\n"
     ]
    }
   ],
   "source": [
    "path_in = \"E:\\LICENSE\\ProgsData\\main\\GAMAv3.txt\"\n",
    "path_out = \"E:\\LICENSE\\ProgsData\\main\\GAMAv3_1.txt\"\n",
    "count = 0\n",
    "with open(path_in, 'r') as input:\n",
    "\n",
    "    line = input.readline()\n",
    "    line_out = line.strip() + '    ' + 'BPT' + '    ' + 'WHAN' + '\\n'\n",
    "    with open(path_out, 'a') as output:\n",
    "        output.write(line_out)\n",
    "\n",
    "    while True:\n",
    "        line = input.readline()\n",
    "        if not line:\n",
    "            break\n",
    "        count += 1\n",
    "        BPT, WHAN = processor(line)\n",
    "        line_out = line.strip() + '    ' + BPT + '    ' + WHAN + '\\n'\n",
    "        with open(path_out, 'a') as output:\n",
    "            output.write(line_out)\n",
    "\n",
    "print(count)"
   ]
  },
  {
   "cell_type": "code",
   "execution_count": 18,
   "metadata": {},
   "outputs": [
    {
     "data": {
      "text/plain": [
       "\"with open(path_in, 'r') as input:\\n    line = input.readline()\\n\\nline.strip()\\n\\nline_out = line.strip()\\ngalaxy_pars = line_out.split()\\n        \\nCATAID = galaxy_pars[0]\\nsm = str(galaxy_pars[35])\\nage = str(galaxy_pars[125])\\nZ = str(galaxy_pars[1])\\nRA = str(galaxy_pars[182])\\nDEC = str(galaxy_pars[183])\\nSPEC_ID = galaxy_pars[734]\\nHA = str(galaxy_pars[816])\\nHA_er = str(galaxy_pars[815])\\nHB = str(galaxy_pars[916])  # should I include errors of HA and HB\\nHB_er = str(galaxy_pars[915])\\nOIII = str(galaxy_pars[906])\\nOIII_er = str(galaxy_pars[905])  # OIIIB, 5007\\nNII = str(galaxy_pars[811])\\nNII_er = str(galaxy_pars[810])  # NIIB, 6583\\nHA_EW = str(galaxy_pars[814])\\nHA_EW_ERR = str(galaxy_pars[813])\\nSURV = galaxy_pars[740]\\nSURV_CODE = galaxy_pars[741]\\nIS_BEST = galaxy_pars[742]\\nIS_SBEST = galaxy_pars[743]\\n\\nprint(CATAID, sm, age, Z, RA, DEC, SPEC_ID, HA, HA_er, HB, HB_er, OIII, OIII_er, NII, NII_er, HA_EW, HA_EW_ERR, SURV, SURV_CODE, IS_BEST, IS_SBEST)\\n\\n\""
      ]
     },
     "execution_count": 18,
     "metadata": {},
     "output_type": "execute_result"
    }
   ],
   "source": [
    "\"\"\"with open(path_in, 'r') as input:\n",
    "    line = input.readline()\n",
    "\n",
    "line.strip()\n",
    "\n",
    "line_out = line.strip()\n",
    "galaxy_pars = line_out.split()\n",
    "        \n",
    "CATAID = galaxy_pars[0]\n",
    "sm = str(galaxy_pars[35])\n",
    "age = str(galaxy_pars[125])\n",
    "Z = str(galaxy_pars[1])\n",
    "RA = str(galaxy_pars[182])\n",
    "DEC = str(galaxy_pars[183])\n",
    "SPEC_ID = galaxy_pars[734]\n",
    "HA = str(galaxy_pars[816])\n",
    "HA_er = str(galaxy_pars[815])\n",
    "HB = str(galaxy_pars[916])  # should I include errors of HA and HB\n",
    "HB_er = str(galaxy_pars[915])\n",
    "OIII = str(galaxy_pars[906])\n",
    "OIII_er = str(galaxy_pars[905])  # OIIIB, 5007\n",
    "NII = str(galaxy_pars[811])\n",
    "NII_er = str(galaxy_pars[810])  # NIIB, 6583\n",
    "HA_EW = str(galaxy_pars[814])\n",
    "HA_EW_ERR = str(galaxy_pars[813])\n",
    "SURV = galaxy_pars[740]\n",
    "SURV_CODE = galaxy_pars[741]\n",
    "IS_BEST = galaxy_pars[742]\n",
    "IS_SBEST = galaxy_pars[743]\n",
    "\n",
    "print(CATAID, sm, age, Z, RA, DEC, SPEC_ID, HA, HA_er, HB, HB_er, OIII, OIII_er, NII, NII_er, HA_EW, HA_EW_ERR, SURV, SURV_CODE, IS_BEST, IS_SBEST)\n",
    "\n",
    "\"\"\""
   ]
  }
 ],
 "metadata": {
  "kernelspec": {
   "display_name": "Python 3",
   "language": "python",
   "name": "python3"
  },
  "language_info": {
   "codemirror_mode": {
    "name": "ipython",
    "version": 3
   },
   "file_extension": ".py",
   "mimetype": "text/x-python",
   "name": "python",
   "nbconvert_exporter": "python",
   "pygments_lexer": "ipython3",
   "version": "3.10.10"
  },
  "orig_nbformat": 4
 },
 "nbformat": 4,
 "nbformat_minor": 2
}
