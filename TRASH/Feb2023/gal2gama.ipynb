{
 "cells": [
  {
   "cell_type": "code",
   "execution_count": 16,
   "metadata": {},
   "outputs": [],
   "source": [
    "import csv\n",
    "import math"
   ]
  },
  {
   "cell_type": "code",
   "execution_count": 17,
   "metadata": {},
   "outputs": [],
   "source": [
    "def main(gama_file, sample_file):\n",
    "    gama_table_dict = []\n",
    "    my_table_dict = []\n",
    "    gama_data = {}\n",
    "    sample_mix = {}\n",
    "    res = {}\n",
    "\n",
    "    with open(gama_file, encoding='utf-8') as csvfile:\n",
    "            reader = csv.DictReader(csvfile)\n",
    "            for row in reader:\n",
    "                gama_table_dict.append({'GAMAID' : row['GAMAID'], 'RA' : math.floor(float(row['RA']), 4), 'DEC' : math.floor(float(row['DEC']))})\n",
    "    \n",
    "    print(gama_table_dict)\n",
    "    \n",
    "    with open(sample_file, encoding='utf-8') as csvfile:\n",
    "            reader = csv.DictReader(csvfile)\n",
    "            for row in reader:\n",
    "                my_table_dict.append({'ID' : row['ID'], 'RASDSS' : math.floor(float(row['RaSDSS']), 4), 'DECSDSS' : math.floor(float(row['RaSDSS']), 4)})\n",
    "    \n",
    "    print(my_table_dict)\n",
    "    \n",
    "    for item in gama_table_dict:\n",
    "        gama_data.update({item['RA']*item['DEC'] : item['GAMAID']})\n",
    "        sample_mix.update({item['ID'] : item['RASDSS']*item['DECSDSS']})\n",
    "\n",
    "        for ID in sample_mix.keys():\n",
    "            try:\n",
    "                res.update({ID : gama_data(sample_mix['ID'])})\n",
    "            except:\n",
    "                print(f'Failed with {ID}')\n",
    "                pass\n",
    "    \n",
    "    print(res)"
   ]
  },
  {
   "cell_type": "code",
   "execution_count": 18,
   "metadata": {},
   "outputs": [],
   "source": [
    "if __name__ == '__main __':\n",
    "    main('gama.csv', 'sample.csv')"
   ]
  }
 ],
 "metadata": {
  "kernelspec": {
   "display_name": "Python 3",
   "language": "python",
   "name": "python3"
  },
  "language_info": {
   "codemirror_mode": {
    "name": "ipython",
    "version": 3
   },
   "file_extension": ".py",
   "mimetype": "text/x-python",
   "name": "python",
   "nbconvert_exporter": "python",
   "pygments_lexer": "ipython3",
   "version": "3.10.0 (tags/v3.10.0:b494f59, Oct  4 2021, 19:00:18) [MSC v.1929 64 bit (AMD64)]"
  },
  "orig_nbformat": 4,
  "vscode": {
   "interpreter": {
    "hash": "26de051ba29f2982a8de78e945f0abaf191376122a1563185a90213a26c5da77"
   }
  }
 },
 "nbformat": 4,
 "nbformat_minor": 2
}
